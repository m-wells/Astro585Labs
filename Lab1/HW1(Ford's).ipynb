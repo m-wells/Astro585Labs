{
 "metadata": {
  "language": "Julia",
  "name": ""
 },
 "nbformat": 3,
 "nbformat_minor": 0,
 "worksheets": [
  {
   "cells": [
    {
     "cell_type": "code",
     "collapsed": false,
     "input": [
      "srand(42);\n",
      "Nobs = 100;\n",
      "z = zeros(Nobs);\n",
      "sigma = 2. * ones(Nobs);\n",
      "y = z + sigma .* randn(Nobs);\n",
      "normal_pdf(z, y, sigma) = exp(-0.5*((y-z)/sigma)^2)/(sqrt(2*pi)*sigma);\n",
      "\n",
      "function log_likelihood(y::Array, sigma::Array, z::Array)\n",
      " \u00a0\u00a0n = length(y);\n",
      " \u00a0\u00a0sum = zero(y[1]);\n",
      " \u00a0\u00a0for i in 1:n\n",
      " \u00a0\u00a0\u00a0sum = sum + log(normal_pdf(y[i],z[i],sigma[i]));\n",
      " \u00a0\u00a0end;\n",
      " \u00a0\u00a0return sum;\n",
      "end"
     ],
     "language": "python",
     "metadata": {},
     "outputs": [
      {
       "metadata": {},
       "output_type": "pyout",
       "prompt_number": 1,
       "text": [
        "log_likelihood (generic function with 1 method)"
       ]
      }
     ],
     "prompt_number": 1
    },
    {
     "cell_type": "code",
     "collapsed": false,
     "input": [
      "log_likelihood(y,sigma,z)"
     ],
     "language": "python",
     "metadata": {},
     "outputs": [
      {
       "metadata": {},
       "output_type": "pyout",
       "prompt_number": 2,
       "text": [
        "-217.03969263050604"
       ]
      }
     ],
     "prompt_number": 2
    },
    {
     "cell_type": "code",
     "collapsed": false,
     "input": [],
     "language": "python",
     "metadata": {},
     "outputs": []
    }
   ],
   "metadata": {}
  }
 ]
}